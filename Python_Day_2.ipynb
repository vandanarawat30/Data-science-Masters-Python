{
  "nbformat": 4,
  "nbformat_minor": 0,
  "metadata": {
    "colab": {
      "provenance": []
    },
    "kernelspec": {
      "name": "python3",
      "display_name": "Python 3"
    },
    "language_info": {
      "name": "python"
    }
  },
  "cells": [
    {
      "cell_type": "code",
      "execution_count": 1,
      "metadata": {
        "id": "h3of3bkKXfA5"
      },
      "outputs": [],
      "source": [
        "#Loopd Statements\n",
        "## while loop\n",
        "## for loop\n",
        "## nested loop\n",
        "## loop control (Break, continue, pass)"
      ]
    },
    {
      "cell_type": "code",
      "source": [
        "#while loop\n",
        "joining_age = 25\n",
        "while joining_age <= 60:\n",
        "  joining_age = joining_age+1\n",
        "  print(joining_age)"
      ],
      "metadata": {
        "colab": {
          "base_uri": "https://localhost:8080/"
        },
        "id": "UtvYuFuUXufg",
        "outputId": "0a63e17c-15d7-46db-fb27-af44364680eb"
      },
      "execution_count": 2,
      "outputs": [
        {
          "output_type": "stream",
          "name": "stdout",
          "text": [
            "26\n",
            "27\n",
            "28\n",
            "29\n",
            "30\n",
            "31\n",
            "32\n",
            "33\n",
            "34\n",
            "35\n",
            "36\n",
            "37\n",
            "38\n",
            "39\n",
            "40\n",
            "41\n",
            "42\n",
            "43\n",
            "44\n",
            "45\n",
            "46\n",
            "47\n",
            "48\n",
            "49\n",
            "50\n",
            "51\n",
            "52\n",
            "53\n",
            "54\n",
            "55\n",
            "56\n",
            "57\n",
            "58\n",
            "59\n",
            "60\n",
            "61\n"
          ]
        }
      ]
    },
    {
      "cell_type": "code",
      "source": [
        "#while loop\n",
        "joining_age = 25\n",
        "while joining_age <= 60:\n",
        "  print(joining_age)\n",
        "  joining_age = joining_age+1\n",
        "  \n",
        "else:\n",
        "  print(\"its time for retirement\")"
      ],
      "metadata": {
        "colab": {
          "base_uri": "https://localhost:8080/"
        },
        "id": "_yaxLqHGbqsT",
        "outputId": "33b4b2af-5cdb-483c-b0a0-cd7ceda1784c"
      },
      "execution_count": 6,
      "outputs": [
        {
          "output_type": "stream",
          "name": "stdout",
          "text": [
            "25\n",
            "26\n",
            "27\n",
            "28\n",
            "29\n",
            "30\n",
            "31\n",
            "32\n",
            "33\n",
            "34\n",
            "35\n",
            "36\n",
            "37\n",
            "38\n",
            "39\n",
            "40\n",
            "41\n",
            "42\n",
            "43\n",
            "44\n",
            "45\n",
            "46\n",
            "47\n",
            "48\n",
            "49\n",
            "50\n",
            "51\n",
            "52\n",
            "53\n",
            "54\n",
            "55\n",
            "56\n",
            "57\n",
            "58\n",
            "59\n",
            "60\n",
            "its time for retirement\n"
          ]
        }
      ]
    },
    {
      "cell_type": "code",
      "source": [
        "### atm machine with 1000 rs\n",
        "total_amount = 1000\n",
        "while total_amount != 0:\n",
        "  print(total_amount)\n",
        "  total_amount = total_amount - 100\n",
        "  "
      ],
      "metadata": {
        "colab": {
          "base_uri": "https://localhost:8080/"
        },
        "id": "gombyPGjcN5o",
        "outputId": "8e417374-6d1b-4277-9a37-9170e2cd4a76"
      },
      "execution_count": 9,
      "outputs": [
        {
          "output_type": "stream",
          "name": "stdout",
          "text": [
            "1000\n",
            "900\n",
            "800\n",
            "700\n",
            "600\n",
            "500\n",
            "400\n",
            "300\n",
            "200\n",
            "100\n"
          ]
        }
      ]
    },
    {
      "cell_type": "code",
      "source": [
        "total_amount = 1000\n",
        "while total_amount != 0:\n",
        "  print(total_amount)\n",
        "  total_amount = total_amount - 100\n",
        "else:\n",
        "  print(\"put more money bank people\")"
      ],
      "metadata": {
        "colab": {
          "base_uri": "https://localhost:8080/"
        },
        "id": "_gDIIQnBdG0G",
        "outputId": "4d473c0d-bb0d-4333-a6f0-4beca33aa990"
      },
      "execution_count": 10,
      "outputs": [
        {
          "output_type": "stream",
          "name": "stdout",
          "text": [
            "1000\n",
            "900\n",
            "800\n",
            "700\n",
            "600\n",
            "500\n",
            "400\n",
            "300\n",
            "200\n",
            "100\n",
            "put more money bank people\n"
          ]
        }
      ]
    },
    {
      "cell_type": "code",
      "source": [
        "total_amount = 1000\n",
        "while total_amount != 0:\n",
        "  print(total_amount)\n",
        "  total_amount = total_amount - 100\n",
        "else:\n",
        "  print(\"put more money bank people\")\n",
        "\n",
        "print(\"hello all\")"
      ],
      "metadata": {
        "colab": {
          "base_uri": "https://localhost:8080/"
        },
        "id": "3Q_ZSeK1dgJg",
        "outputId": "16ff9897-aad0-4383-f61b-c4bcf8402f4b"
      },
      "execution_count": 11,
      "outputs": [
        {
          "output_type": "stream",
          "name": "stdout",
          "text": [
            "1000\n",
            "900\n",
            "800\n",
            "700\n",
            "600\n",
            "500\n",
            "400\n",
            "300\n",
            "200\n",
            "100\n",
            "put more money bank people\n",
            "hello all\n"
          ]
        }
      ]
    },
    {
      "cell_type": "code",
      "source": [
        "#for loop\n",
        "lst = [\"vandana\", 1,2,3,4,\"apple\",\"banana\"]"
      ],
      "metadata": {
        "id": "BNYMB2A2dvK2"
      },
      "execution_count": 12,
      "outputs": []
    },
    {
      "cell_type": "code",
      "source": [
        "type(lst)"
      ],
      "metadata": {
        "colab": {
          "base_uri": "https://localhost:8080/"
        },
        "id": "Ou6vpklfenIU",
        "outputId": "9ad6573e-fd9f-42bb-c2af-eb89ab2e3360"
      },
      "execution_count": 13,
      "outputs": [
        {
          "output_type": "execute_result",
          "data": {
            "text/plain": [
              "list"
            ]
          },
          "metadata": {},
          "execution_count": 13
        }
      ]
    },
    {
      "cell_type": "code",
      "source": [
        "lst[4]"
      ],
      "metadata": {
        "colab": {
          "base_uri": "https://localhost:8080/"
        },
        "id": "654cToIPeoX0",
        "outputId": "c1e160d0-af27-417a-d5fd-07513a1a68ba"
      },
      "execution_count": 17,
      "outputs": [
        {
          "output_type": "execute_result",
          "data": {
            "text/plain": [
              "4"
            ]
          },
          "metadata": {},
          "execution_count": 17
        }
      ]
    },
    {
      "cell_type": "code",
      "source": [
        "lst"
      ],
      "metadata": {
        "colab": {
          "base_uri": "https://localhost:8080/"
        },
        "id": "Wctm0rVkfCNX",
        "outputId": "516cd0ff-d409-43fe-ddcf-5c1f9a9dd301"
      },
      "execution_count": 18,
      "outputs": [
        {
          "output_type": "execute_result",
          "data": {
            "text/plain": [
              "['vandana', 1, 2, 3, 4, 'apple', 'banana']"
            ]
          },
          "metadata": {},
          "execution_count": 18
        }
      ]
    },
    {
      "cell_type": "code",
      "source": [
        "for x in lst:\n",
        "  print(x)"
      ],
      "metadata": {
        "colab": {
          "base_uri": "https://localhost:8080/"
        },
        "id": "vDqwKwlxfD5T",
        "outputId": "fadab643-0769-4c03-cf02-45ebe896dbec"
      },
      "execution_count": 19,
      "outputs": [
        {
          "output_type": "stream",
          "name": "stdout",
          "text": [
            "vandana\n",
            "1\n",
            "2\n",
            "3\n",
            "4\n",
            "apple\n",
            "banana\n"
          ]
        }
      ]
    },
    {
      "cell_type": "code",
      "source": [
        "fruits_list = [\"mango\", \"cherry\",\"apple\", \"papaya \", \"banana\"]"
      ],
      "metadata": {
        "id": "zXaVHkyofPlj"
      },
      "execution_count": 20,
      "outputs": []
    },
    {
      "cell_type": "code",
      "source": [
        "for a in fruits_list:\n",
        "  print(a)\n",
        "  "
      ],
      "metadata": {
        "colab": {
          "base_uri": "https://localhost:8080/"
        },
        "id": "0Tx78CrMfqxi",
        "outputId": "b4ebccc2-aad9-4201-d1aa-19958f0693b9"
      },
      "execution_count": 21,
      "outputs": [
        {
          "output_type": "stream",
          "name": "stdout",
          "text": [
            "mango\n",
            "cherry\n",
            "apple\n",
            "papaya \n",
            "banana\n"
          ]
        }
      ]
    },
    {
      "cell_type": "code",
      "source": [
        "for a in fruits_list:\n",
        "  print(a)\n",
        "  if a ==\"cherry\":\n",
        "    print(\"the fruit is cherry\")"
      ],
      "metadata": {
        "colab": {
          "base_uri": "https://localhost:8080/"
        },
        "id": "dinBa_t5fuQD",
        "outputId": "cdab0f93-5826-47e5-fce2-10a719dd1722"
      },
      "execution_count": 26,
      "outputs": [
        {
          "output_type": "stream",
          "name": "stdout",
          "text": [
            "mango\n",
            "cherry\n",
            "the fruit is cherry\n",
            "apple\n",
            "papaya \n",
            "banana\n"
          ]
        }
      ]
    },
    {
      "cell_type": "code",
      "source": [
        "fruit = \"mango\"\n",
        "for x in fruit:\n",
        "  print (x)"
      ],
      "metadata": {
        "colab": {
          "base_uri": "https://localhost:8080/"
        },
        "id": "AecMz8yrf5Kc",
        "outputId": "92df20fc-1ee3-4a8c-d763-a5666479b5c3"
      },
      "execution_count": 29,
      "outputs": [
        {
          "output_type": "stream",
          "name": "stdout",
          "text": [
            "m\n",
            "a\n",
            "n\n",
            "g\n",
            "o\n"
          ]
        }
      ]
    },
    {
      "cell_type": "code",
      "source": [
        "fruit[1]"
      ],
      "metadata": {
        "colab": {
          "base_uri": "https://localhost:8080/",
          "height": 35
        },
        "id": "X4bS2WOMghwS",
        "outputId": "8bc14304-f44d-4736-8360-dbc5802c80ac"
      },
      "execution_count": 31,
      "outputs": [
        {
          "output_type": "execute_result",
          "data": {
            "text/plain": [
              "'a'"
            ],
            "application/vnd.google.colaboratory.intrinsic+json": {
              "type": "string"
            }
          },
          "metadata": {},
          "execution_count": 31
        }
      ]
    },
    {
      "cell_type": "code",
      "source": [
        "##nested loops\n",
        "n = 7\n",
        "\n",
        "#range(start , stop, step)\n"
      ],
      "metadata": {
        "id": "RGjPJN3mgkRx"
      },
      "execution_count": 32,
      "outputs": []
    },
    {
      "cell_type": "code",
      "source": [
        "range(1,6)"
      ],
      "metadata": {
        "colab": {
          "base_uri": "https://localhost:8080/"
        },
        "id": "2So7jJo1oYC2",
        "outputId": "458ea923-2a05-4dda-b9ec-8ea176fcf143"
      },
      "execution_count": 33,
      "outputs": [
        {
          "output_type": "execute_result",
          "data": {
            "text/plain": [
              "range(1, 6)"
            ]
          },
          "metadata": {},
          "execution_count": 33
        }
      ]
    },
    {
      "cell_type": "code",
      "source": [
        "for i in range(1,6):\n",
        "  print(i)"
      ],
      "metadata": {
        "colab": {
          "base_uri": "https://localhost:8080/"
        },
        "id": "ruLeTFyHoZcW",
        "outputId": "a1c88c75-917d-4051-cc0e-bdddf59814a7"
      },
      "execution_count": 35,
      "outputs": [
        {
          "output_type": "stream",
          "name": "stdout",
          "text": [
            "1\n",
            "2\n",
            "3\n",
            "4\n",
            "5\n"
          ]
        }
      ]
    },
    {
      "cell_type": "code",
      "source": [
        "for i in range(1,10,2):\n",
        "  print(i)"
      ],
      "metadata": {
        "colab": {
          "base_uri": "https://localhost:8080/"
        },
        "id": "3AoYb3OlodIF",
        "outputId": "00e68b25-5f4c-47d0-e747-49dad870203f"
      },
      "execution_count": 37,
      "outputs": [
        {
          "output_type": "stream",
          "name": "stdout",
          "text": [
            "1\n",
            "3\n",
            "5\n",
            "7\n",
            "9\n"
          ]
        }
      ]
    },
    {
      "cell_type": "code",
      "source": [
        "n = 7\n",
        "for i in range(0,n):\n",
        "  for j in range(0, i+1):\n",
        "    print(\"*\",end=\"\")\n",
        "  print(\"\\r\")"
      ],
      "metadata": {
        "colab": {
          "base_uri": "https://localhost:8080/"
        },
        "id": "gFKQ9b7VotcF",
        "outputId": "b322d802-9c63-4a19-bad2-7d357d3f7418"
      },
      "execution_count": 40,
      "outputs": [
        {
          "output_type": "stream",
          "name": "stdout",
          "text": [
            "*\r\n",
            "**\r\n",
            "***\r\n",
            "****\r\n",
            "*****\r\n",
            "******\r\n",
            "*******\r\n"
          ]
        }
      ]
    },
    {
      "cell_type": "code",
      "source": [
        "n = 4\n",
        "for i in range(0,n):\n",
        "  for j in range(0,i+)"
      ],
      "metadata": {
        "colab": {
          "base_uri": "https://localhost:8080/",
          "height": 130
        },
        "id": "0dMtKLHcpG5V",
        "outputId": "f78c546c-8395-471e-ef62-d3701f103dbe"
      },
      "execution_count": 41,
      "outputs": [
        {
          "output_type": "error",
          "ename": "SyntaxError",
          "evalue": "ignored",
          "traceback": [
            "\u001b[0;36m  File \u001b[0;32m\"<ipython-input-41-50602bbd97b1>\"\u001b[0;36m, line \u001b[0;32m3\u001b[0m\n\u001b[0;31m    for j in range(0,i+)\u001b[0m\n\u001b[0m                       ^\u001b[0m\n\u001b[0;31mSyntaxError\u001b[0m\u001b[0;31m:\u001b[0m invalid syntax\n"
          ]
        }
      ]
    },
    {
      "cell_type": "code",
      "source": [
        "#loop controls\n",
        "##break and continue\n",
        "fruits_lists = [\"mango\", \"cherry\", \"apple\", \"papaya\", \"banana\"]\n"
      ],
      "metadata": {
        "id": "0yZEzYfT9X8A"
      },
      "execution_count": 42,
      "outputs": []
    },
    {
      "cell_type": "code",
      "source": [
        "for i in fruits_lists:\n",
        "  if i == \"apple\":\n",
        "       print(\"the fruit is apple\")\n",
        "  print(i)"
      ],
      "metadata": {
        "colab": {
          "base_uri": "https://localhost:8080/"
        },
        "id": "tVFKcR5F9m72",
        "outputId": "3e43544d-a431-4ab2-8ba9-e279e3ead6c9"
      },
      "execution_count": 51,
      "outputs": [
        {
          "output_type": "stream",
          "name": "stdout",
          "text": [
            "mango\n",
            "cherry\n",
            "the fruit is apple\n",
            "apple\n",
            "papaya\n",
            "banana\n"
          ]
        }
      ]
    },
    {
      "cell_type": "code",
      "source": [
        "for i in fruits_lists:\n",
        "  if i == \"apple\":\n",
        "       print(\"the fruit is apple\")\n",
        "       break\n",
        "  print(i)"
      ],
      "metadata": {
        "colab": {
          "base_uri": "https://localhost:8080/"
        },
        "id": "8LS50qT99wtG",
        "outputId": "84576188-0fa0-4106-cfab-714c4d045010"
      },
      "execution_count": 52,
      "outputs": [
        {
          "output_type": "stream",
          "name": "stdout",
          "text": [
            "mango\n",
            "cherry\n",
            "the fruit is apple\n"
          ]
        }
      ]
    },
    {
      "cell_type": "code",
      "source": [
        "for i in fruits_list:\n",
        "  if i ==\" apple\":\n",
        "    print(\"the fruit is apple\")\n",
        "    pass\n",
        "  print(i)"
      ],
      "metadata": {
        "colab": {
          "base_uri": "https://localhost:8080/"
        },
        "id": "miyt1bvy93HG",
        "outputId": "b91c602b-0b4c-4b8b-b469-6c5c28c5993d"
      },
      "execution_count": 53,
      "outputs": [
        {
          "output_type": "stream",
          "name": "stdout",
          "text": [
            "mango\n",
            "cherry\n",
            "apple\n",
            "papaya \n",
            "banana\n"
          ]
        }
      ]
    },
    {
      "cell_type": "code",
      "source": [
        "for i in fruits_lists:\n",
        "  if i == \"apple\":\n",
        "       print(\"the fruit is apple\")\n",
        "       continue\n",
        "  print(i)"
      ],
      "metadata": {
        "colab": {
          "base_uri": "https://localhost:8080/"
        },
        "id": "gr0U3SNz-2eE",
        "outputId": "7a87efe0-36e6-4a24-8a70-8370adb216b6"
      },
      "execution_count": 56,
      "outputs": [
        {
          "output_type": "stream",
          "name": "stdout",
          "text": [
            "mango\n",
            "cherry\n",
            "the fruit is apple\n",
            "papaya\n",
            "banana\n"
          ]
        }
      ]
    },
    {
      "cell_type": "code",
      "source": [],
      "metadata": {
        "id": "1Vg4t9-b-4EE"
      },
      "execution_count": null,
      "outputs": []
    }
  ]
}