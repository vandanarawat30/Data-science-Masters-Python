{
  "nbformat": 4,
  "nbformat_minor": 0,
  "metadata": {
    "colab": {
      "provenance": []
    },
    "kernelspec": {
      "name": "python3",
      "display_name": "Python 3"
    },
    "language_info": {
      "name": "python"
    }
  },
  "cells": [
    {
      "cell_type": "code",
      "execution_count": null,
      "metadata": {
        "id": "bWtmcK39ExBi"
      },
      "outputs": [],
      "source": [
        "a = 10"
      ]
    },
    {
      "cell_type": "code",
      "source": [
        "a =\"c\""
      ],
      "metadata": {
        "id": "Us8ZOpYSJkD1"
      },
      "execution_count": null,
      "outputs": []
    },
    {
      "cell_type": "code",
      "source": [
        "type(a)"
      ],
      "metadata": {
        "colab": {
          "base_uri": "https://localhost:8080/"
        },
        "id": "zysQz6iqJw4U",
        "outputId": "473ddec5-932d-4641-a60a-8a29e86144a0"
      },
      "execution_count": null,
      "outputs": [
        {
          "output_type": "execute_result",
          "data": {
            "text/plain": [
              "str"
            ]
          },
          "metadata": {},
          "execution_count": 3
        }
      ]
    },
    {
      "cell_type": "code",
      "source": [
        "int()"
      ],
      "metadata": {
        "colab": {
          "base_uri": "https://localhost:8080/"
        },
        "id": "YN9qvt1CJyA0",
        "outputId": "41e488c5-9038-430a-a933-ce8a9f6fc6f0"
      },
      "execution_count": null,
      "outputs": [
        {
          "output_type": "execute_result",
          "data": {
            "text/plain": [
              "0"
            ]
          },
          "metadata": {},
          "execution_count": 4
        }
      ]
    },
    {
      "cell_type": "code",
      "source": [
        "print(\"hello world\")"
      ],
      "metadata": {
        "colab": {
          "base_uri": "https://localhost:8080/"
        },
        "id": "aMLsL4kPKEby",
        "outputId": "3c15abaf-2688-4d17-95dd-3782a88b92d9"
      },
      "execution_count": null,
      "outputs": [
        {
          "output_type": "stream",
          "name": "stdout",
          "text": [
            "hello world\n"
          ]
        }
      ]
    },
    {
      "cell_type": "code",
      "source": [
        "age = 32\n",
        "print(\"my age is;\", age)"
      ],
      "metadata": {
        "colab": {
          "base_uri": "https://localhost:8080/"
        },
        "id": "ey3mslfeLSnx",
        "outputId": "9fff0ad4-0639-40ad-b02d-d761d46e1a7c"
      },
      "execution_count": null,
      "outputs": [
        {
          "output_type": "stream",
          "name": "stdout",
          "text": [
            "my age is; 32\n"
          ]
        }
      ]
    },
    {
      "cell_type": "code",
      "source": [
        "print(\"my age is: {age}\")"
      ],
      "metadata": {
        "colab": {
          "base_uri": "https://localhost:8080/"
        },
        "id": "BJ29nt7VLW8R",
        "outputId": "2d67f7af-7101-427d-8e0a-0a7c6be749ee"
      },
      "execution_count": null,
      "outputs": [
        {
          "output_type": "stream",
          "name": "stdout",
          "text": [
            "my age is: {age}\n"
          ]
        }
      ]
    },
    {
      "cell_type": "code",
      "source": [
        "print(f'my age is {age}')"
      ],
      "metadata": {
        "colab": {
          "base_uri": "https://localhost:8080/"
        },
        "id": "uIalNUHmLeph",
        "outputId": "ab8a9119-e22a-4cf2-f695-83a9c259741e"
      },
      "execution_count": null,
      "outputs": [
        {
          "output_type": "stream",
          "name": "stdout",
          "text": [
            "my age is 32\n"
          ]
        }
      ]
    },
    {
      "cell_type": "code",
      "source": [
        "print(\"my age is :{}\".format(age))"
      ],
      "metadata": {
        "colab": {
          "base_uri": "https://localhost:8080/"
        },
        "id": "irFYaRHnLimQ",
        "outputId": "e3ed53fe-25a0-4c0c-d626-c74748c9bbca"
      },
      "execution_count": null,
      "outputs": [
        {
          "output_type": "stream",
          "name": "stdout",
          "text": [
            "my age is :32\n"
          ]
        }
      ]
    },
    {
      "cell_type": "code",
      "source": [
        "name= \"vandana\"\n",
        "age = 33\n",
        "print('my name is {} and age {}'.format(name,age))"
      ],
      "metadata": {
        "colab": {
          "base_uri": "https://localhost:8080/"
        },
        "id": "eZJ5ZzBgLung",
        "outputId": "cad39806-374c-4b36-9747-bbbce37104c6"
      },
      "execution_count": null,
      "outputs": [
        {
          "output_type": "stream",
          "name": "stdout",
          "text": [
            "my name is vandana and age 33\n"
          ]
        }
      ]
    },
    {
      "cell_type": "code",
      "source": [
        "name= \"vandana\"\n",
        "age = 33\n",
        "print(\"my name is {firstname} and age is {firstage}\".format(firstname = name,firstage=age))"
      ],
      "metadata": {
        "colab": {
          "base_uri": "https://localhost:8080/"
        },
        "id": "yAxtXk-dMcef",
        "outputId": "b9e7d643-92cc-4970-9cfb-844e33bf109d"
      },
      "execution_count": null,
      "outputs": [
        {
          "output_type": "stream",
          "name": "stdout",
          "text": [
            "my name is vandana and age is 33\n"
          ]
        }
      ]
    },
    {
      "cell_type": "code",
      "source": [
        "name = \"vandana\"\n",
        "age = 33\n",
        "degree = \"DS\"\n",
        "\n",
        "print(\"my name is {fn} and i have complete my degree of {dg} with the age of {age}\".format (fn= name, dg= degree, age = age))"
      ],
      "metadata": {
        "colab": {
          "base_uri": "https://localhost:8080/"
        },
        "id": "5nb4kyn-NM1-",
        "outputId": "8aa4d9a7-a724-4f45-eca4-40254dfff334"
      },
      "execution_count": null,
      "outputs": [
        {
          "output_type": "stream",
          "name": "stdout",
          "text": [
            "my name is vandana and i have complete my degree of DS with the age of 33\n"
          ]
        }
      ]
    },
    {
      "cell_type": "code",
      "source": [
        "#If/Else\n",
        "age = 18\n",
        "if age >= 18:\n",
        "  print(\"you can vote\")"
      ],
      "metadata": {
        "colab": {
          "base_uri": "https://localhost:8080/"
        },
        "id": "RFmQGGfrOfWt",
        "outputId": "0e7c9693-0549-45e7-92e0-221a2fe64126"
      },
      "execution_count": null,
      "outputs": [
        {
          "output_type": "stream",
          "name": "stdout",
          "text": [
            "you can vote\n"
          ]
        }
      ]
    },
    {
      "cell_type": "code",
      "source": [
        "age - 18\n",
        "if age < 18:\n",
        "  print(\"you are not eligible to vote\")\n",
        "else:\n",
        "  print(\"ok\")"
      ],
      "metadata": {
        "colab": {
          "base_uri": "https://localhost:8080/"
        },
        "id": "IriaBOMES-4P",
        "outputId": "d304e84c-e131-4d59-c4ea-f5023b9216f8"
      },
      "execution_count": null,
      "outputs": [
        {
          "output_type": "stream",
          "name": "stdout",
          "text": [
            "ok\n"
          ]
        }
      ]
    },
    {
      "cell_type": "code",
      "source": [
        "input()"
      ],
      "metadata": {
        "colab": {
          "base_uri": "https://localhost:8080/",
          "height": 53
        },
        "id": "hV-jaXQITgOF",
        "outputId": "1fa20a4e-410d-49c9-b0d8-0175d3771501"
      },
      "execution_count": null,
      "outputs": [
        {
          "name": "stdout",
          "output_type": "stream",
          "text": [
            "vandana\n"
          ]
        },
        {
          "output_type": "execute_result",
          "data": {
            "text/plain": [
              "'vandana'"
            ],
            "application/vnd.google.colaboratory.intrinsic+json": {
              "type": "string"
            }
          },
          "metadata": {},
          "execution_count": 24
        }
      ]
    },
    {
      "cell_type": "code",
      "source": [
        "name = int(input(\"enter your age \"))"
      ],
      "metadata": {
        "colab": {
          "base_uri": "https://localhost:8080/"
        },
        "id": "hnKL4kKFWiqQ",
        "outputId": "9433f1f0-9813-4fe1-ac73-1a9fabf157ac"
      },
      "execution_count": null,
      "outputs": [
        {
          "name": "stdout",
          "output_type": "stream",
          "text": [
            "enter your age 33\n"
          ]
        }
      ]
    },
    {
      "cell_type": "code",
      "source": [
        "#task\n",
        "#take a input of age\n",
        "# check whether age >= 18 ang age <= 45\n",
        "#display a message you are a young blood\n",
        "\n"
      ],
      "metadata": {
        "id": "3wWO-ytmyrPA"
      },
      "execution_count": null,
      "outputs": []
    },
    {
      "cell_type": "code",
      "source": [
        "age = int(input(\"enter the age \"))\n",
        "\n",
        "if age >= 18 and age <= 45:\n",
        "  print (\"you are the young blood\")"
      ],
      "metadata": {
        "colab": {
          "base_uri": "https://localhost:8080/"
        },
        "id": "PgsNp5vMzVVk",
        "outputId": "d94170e8-d262-4051-f5f8-63f5162e0d7f"
      },
      "execution_count": null,
      "outputs": [
        {
          "output_type": "stream",
          "name": "stdout",
          "text": [
            "enter the age 33\n",
            "you are the young blood\n"
          ]
        }
      ]
    },
    {
      "cell_type": "code",
      "source": [
        "age = int(input(\"enter the age \"))\n",
        "if age >=18 and age  <= 45:\n",
        "  print (\"you are young blood\")\n",
        "else:\n",
        "  print (\"thank you we will let you know\")"
      ],
      "metadata": {
        "colab": {
          "base_uri": "https://localhost:8080/"
        },
        "id": "56KoV0f7zhPk",
        "outputId": "5b13b3ab-b777-45e2-ef45-63b77c659ad7"
      },
      "execution_count": null,
      "outputs": [
        {
          "output_type": "stream",
          "name": "stdout",
          "text": [
            "enter the age 46\n",
            "thank you we will let you know\n"
          ]
        }
      ]
    },
    {
      "cell_type": "code",
      "source": [
        "##mall input the product price\n",
        "# product > 1000 rs 20% off\n",
        "## print the product price\n",
        "## product <= 1000 rs 30% off\n",
        "#print the product price after the removing the discount"
      ],
      "metadata": {
        "id": "dLu843YD1LTS"
      },
      "execution_count": null,
      "outputs": []
    },
    {
      "cell_type": "code",
      "source": [
        "product_price = int(input(\"enter the product price \"))\n",
        "if product_price > 1000:\n",
        "  print(\" product price {}:\".format(product_price*0.8))\n",
        "\n",
        "if product_price < 1000:\n",
        "  print(\"product price is {}\".format(product_price*0.7))\n"
      ],
      "metadata": {
        "colab": {
          "base_uri": "https://localhost:8080/"
        },
        "id": "FOfTH1T9-G62",
        "outputId": "9da1782b-9264-4772-8e11-acaff7eb3660"
      },
      "execution_count": null,
      "outputs": [
        {
          "output_type": "stream",
          "name": "stdout",
          "text": [
            "enter the product price 999\n",
            "product price is 699.3\n"
          ]
        }
      ]
    },
    {
      "cell_type": "code",
      "source": [
        "#mall input the product price\n",
        "# product > 3000 rs 20% off\n",
        "## print the product price\n",
        "## product >= 2000  and <= 3000 rs 30% off\n",
        "#print the product price after the removing the discount\n",
        "## product >= 1000  and <= 2000 rs 40% off"
      ],
      "metadata": {
        "id": "HJb6htEX-qgU"
      },
      "execution_count": null,
      "outputs": []
    },
    {
      "cell_type": "code",
      "source": [
        "product = int(input(\"enter the price \"))\n",
        "if product >3000:\n",
        "  print(\"product price {}\".format(product*0.8))\n",
        "\n",
        "elif product >= 2000 and product <= 3000:\n",
        "  if product == 2999:\n",
        "    print(\"Congratulations\")\n",
        "  print (\"product price {}\".format(product*0.7))\n",
        "\n",
        "\n",
        "else:\n",
        "  print(\"prodcut price {}\".format(product*0.6))"
      ],
      "metadata": {
        "colab": {
          "base_uri": "https://localhost:8080/"
        },
        "id": "oDp03dFxAFvy",
        "outputId": "7a3dd48c-1d49-49aa-d835-9865ea012dc7"
      },
      "execution_count": null,
      "outputs": [
        {
          "output_type": "stream",
          "name": "stdout",
          "text": [
            "enter the price 2999\n",
            "Congratulations\n",
            "product price 2099.2999999999997\n"
          ]
        }
      ]
    },
    {
      "cell_type": "code",
      "source": [
        "(True == True)"
      ],
      "metadata": {
        "id": "P9j5UKrnBH_R",
        "colab": {
          "base_uri": "https://localhost:8080/"
        },
        "outputId": "7da4bc24-06f2-4956-ea3d-b8f88ea26073"
      },
      "execution_count": 2,
      "outputs": [
        {
          "output_type": "execute_result",
          "data": {
            "text/plain": [
              "True"
            ]
          },
          "metadata": {},
          "execution_count": 2
        }
      ]
    },
    {
      "cell_type": "code",
      "source": [
        "#single statement\n",
        "val = int(input (\"enter the number\"))\n",
        "if (val== 999):print(\"Value is less than equal to 999\")\n",
        "else:\n",
        "  print(\"Go Home\")"
      ],
      "metadata": {
        "colab": {
          "base_uri": "https://localhost:8080/"
        },
        "id": "nPn1O-ZeSfen",
        "outputId": "f3e6d568-da43-4c95-f9d0-81f74ba4fb38"
      },
      "execution_count": 3,
      "outputs": [
        {
          "output_type": "stream",
          "name": "stdout",
          "text": [
            "enter the number1000\n",
            "Go Home\n"
          ]
        }
      ]
    },
    {
      "cell_type": "code",
      "source": [
        "#single statement\n",
        "val = int(input (\"enter the number\"))\n",
        "if (val== 999):print(\"Value is less than equal to 999\")\n",
        "else:\n",
        "  print(\"Go Home\")"
      ],
      "metadata": {
        "colab": {
          "base_uri": "https://localhost:8080/"
        },
        "id": "Tcrut22dS4A2",
        "outputId": "4b8b851f-fec0-4708-deb3-b60870f172c2"
      },
      "execution_count": 4,
      "outputs": [
        {
          "output_type": "stream",
          "name": "stdout",
          "text": [
            "enter the number999\n",
            "Value is less than equal to 999\n"
          ]
        }
      ]
    },
    {
      "cell_type": "code",
      "source": [],
      "metadata": {
        "id": "UYNwPORaS7wm"
      },
      "execution_count": 7,
      "outputs": []
    },
    {
      "cell_type": "code",
      "source": [],
      "metadata": {
        "id": "OWNDbhSgTU8F"
      },
      "execution_count": null,
      "outputs": []
    }
  ]
}